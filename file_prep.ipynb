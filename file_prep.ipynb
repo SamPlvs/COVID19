{
 "cells": [
  {
   "cell_type": "code",
   "execution_count": 1,
   "metadata": {},
   "outputs": [],
   "source": [
    "import numpy as np\n",
    "import pandas as pd"
   ]
  },
  {
   "cell_type": "markdown",
   "metadata": {},
   "source": [
    "## Training data"
   ]
  },
  {
   "cell_type": "code",
   "execution_count": 2,
   "metadata": {},
   "outputs": [],
   "source": [
    "covid_train = pd.read_csv('/home/charis/pCloudDrive/GDrive_contents/PROJECTS/COVID19_local/Data/COVID-CT-master/Data-split/COVID/trainCT_COVID.txt')\n",
    "healthy_train = pd.read_csv('/home/charis/pCloudDrive/GDrive_contents/PROJECTS/COVID19_local/Data/COVID-CT-master/Data-split/NonCOVID/trainCT_NonCOVID.txt')"
   ]
  },
  {
   "cell_type": "code",
   "execution_count": 3,
   "metadata": {},
   "outputs": [],
   "source": [
    "covid_train_labels = np.ones((len(covid_train), 1))\n",
    "healthy_train_labels = np.zeros((len(healthy_train), 1))"
   ]
  },
  {
   "cell_type": "code",
   "execution_count": 4,
   "metadata": {},
   "outputs": [],
   "source": [
    "covid_train_new = np.concatenate((np.asarray(covid_train), covid_train_labels), axis=1)\n",
    "healthy_train_new = np.concatenate((np.asarray(healthy_train), healthy_train_labels), axis=1)"
   ]
  },
  {
   "cell_type": "code",
   "execution_count": 5,
   "metadata": {},
   "outputs": [],
   "source": [
    "training_data = np.concatenate((covid_train_new, healthy_train_new), axis=0)\n",
    "training_data_save = np.save('train_list.txt', training_data)"
   ]
  },
  {
   "cell_type": "markdown",
   "metadata": {},
   "source": [
    "## Validation data"
   ]
  },
  {
   "cell_type": "code",
   "execution_count": 6,
   "metadata": {},
   "outputs": [],
   "source": [
    "covid_val = pd.read_csv('/home/charis/pCloudDrive/GDrive_contents/PROJECTS/COVID19_local/Data/COVID-CT-master/Data-split/COVID/valCT_COVID.txt')\n",
    "healthy_val = pd.read_csv('/home/charis/pCloudDrive/GDrive_contents/PROJECTS/COVID19_local/Data/COVID-CT-master/Data-split/NonCOVID/valCT_NonCOVID.txt')"
   ]
  },
  {
   "cell_type": "code",
   "execution_count": 7,
   "metadata": {},
   "outputs": [],
   "source": [
    "covid_val_labels = np.ones((len(covid_val), 1))\n",
    "healthy_val_labels = np.zeros((len(healthy_val), 1))"
   ]
  },
  {
   "cell_type": "code",
   "execution_count": 8,
   "metadata": {},
   "outputs": [],
   "source": [
    "covid_val_new = np.concatenate((np.asarray(covid_val), covid_val_labels), axis=1)\n",
    "healthy_val_new = np.concatenate((np.asarray(healthy_val), healthy_val_labels), axis=1)"
   ]
  },
  {
   "cell_type": "code",
   "execution_count": 9,
   "metadata": {},
   "outputs": [],
   "source": [
    "val_data = np.concatenate((covid_val_new, healthy_val_new), axis=0)\n",
    "val_data_save = np.save('val_list.txt', val_data)"
   ]
  },
  {
   "cell_type": "code",
   "execution_count": null,
   "metadata": {},
   "outputs": [],
   "source": []
  }
 ],
 "metadata": {
  "kernelspec": {
   "display_name": "Python 3",
   "language": "python",
   "name": "python3"
  },
  "language_info": {
   "codemirror_mode": {
    "name": "ipython",
    "version": 3
   },
   "file_extension": ".py",
   "mimetype": "text/x-python",
   "name": "python",
   "nbconvert_exporter": "python",
   "pygments_lexer": "ipython3",
   "version": "3.7.4"
  }
 },
 "nbformat": 4,
 "nbformat_minor": 2
}
